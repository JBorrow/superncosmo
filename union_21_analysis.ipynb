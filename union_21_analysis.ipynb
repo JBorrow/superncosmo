{
 "cells": [
  {
   "cell_type": "markdown",
   "metadata": {},
   "source": [
    "Union 2.1 Dataset Analysis\n",
    "==========================\n",
    "\n",
    "This data uses the distance modulus, $\\mu$, to describe the distance rather than the flux or apparent magnitude. We have\n",
    "$$\n",
    "    \\mu = m - M~,\n",
    "$$\n",
    "where $M$ is given by the dataset as being $M(h=0.7) = -19.3081547178$ and is defined below.\n",
    "\n",
    "So the dataset gives $\\mu(z)$ so we need an extra step.\n",
    "\n",
    "We will be again fitting the six-parameter $\\Lambda$CDM model.\n",
    "\n",
    "We want to be able to fit $\\Omega_k \\neq 0$, so we need to make sure that we implement the correct function for the comoving distance,\n",
    "$$\n",
    "    R_0 S(\\eta) = \\frac{cH_0^{-1}}{\\sqrt{|\\Omega_k|}} \\sin\\mathrm{n}\\left(\\sqrt{|\\Omega_k|}\\int^z_0 \\frac{\\mathrm{d}z'}{H(z')}\\right)~,\n",
    "$$\n",
    "with sinn = sin for $\\Omega_k < 0$, sinh for $\\Omega_k > 0$ and if $\\Omega_k = 0$ then this leaves only the constant prefactor and the integral.\n",
    "\n",
    "$$\n",
    "    H(a) \\equiv \\frac{\\dot{a}}{a} = H_0 \\sqrt{ \\left [ (\\Omega_c + \\Omega_b) a^{-3} + \\Omega_{rad} a^{-4} + \\Omega_k a^{-2} + \\Omega_{DE} a^{-3(1+w)} \\right ]}~. ~ ~ ~ ~ (1)\n",
    "$$"
   ]
  },
  {
   "cell_type": "code",
   "execution_count": 196,
   "metadata": {
    "collapsed": false
   },
   "outputs": [],
   "source": [
    "%matplotlib inline\n",
    "%config InlineBackend.figure_formats = {'svg', 'retina'}"
   ]
  },
  {
   "cell_type": "code",
   "execution_count": 197,
   "metadata": {
    "collapsed": false
   },
   "outputs": [],
   "source": [
    "import numpy as np\n",
    "import scipy.integrate as si\n",
    "import matplotlib.pyplot as plt\n",
    "plt.style.use('ggplot')\n",
    "import lmfit\n",
    "from copy import deepcopy\n",
    "josh_colors = ['#7E317B', '#164B44', '#45CAB9', '#8B7C44']"
   ]
  },
  {
   "cell_type": "code",
   "execution_count": 198,
   "metadata": {
    "collapsed": true
   },
   "outputs": [],
   "source": [
    "hubble_constant = 70 * 3.24078e-20\n",
    "speed_of_light = 3e8"
   ]
  },
  {
   "cell_type": "code",
   "execution_count": 199,
   "metadata": {
    "collapsed": false
   },
   "outputs": [],
   "source": [
    "params = lmfit.Parameters()\n",
    "\n",
    "params.add('lpeak', value=4e39, vary=True)\n",
    "#omegas\n",
    "params.add('omega', value=1., vary=False)\n",
    "params.add('c', value=0., vary=False, min=0.)  # degenerate with b\n",
    "params.add('b', value=0.3, vary=True, min=0.)\n",
    "params.add('rad', value=0., vary=True, min=0.)\n",
    "\n",
    "params.add('de', value=0.7, vary=True, min=0., max=1.)\n",
    "params.add('k', value=0., vary=True, expr=\"omega-c-b-rad-de\")  # fixed at 0\n",
    "params.add('w', value=-1, vary=False)  # don't move me man"
   ]
  },
  {
   "cell_type": "code",
   "execution_count": 200,
   "metadata": {
    "collapsed": false
   },
   "outputs": [],
   "source": [
    "def friedmann(z, params):\n",
    "    model = (params['c'].value + params['b'].value) * ((1+z)**3) + \\\n",
    "            params['rad'].value * ((1+z)**4) + \\\n",
    "            params['k'].value * ((1+z)**2) + \\\n",
    "            params['de'].value * ((1+z)**(3*(1 + params['w'].value)))\n",
    "    return np.sqrt(model)"
   ]
  },
  {
   "cell_type": "code",
   "execution_count": 201,
   "metadata": {
    "collapsed": true
   },
   "outputs": [],
   "source": [
    "def sk_integrand(z, params):\n",
    "    return 1/friedmann(z, params)"
   ]
  },
  {
   "cell_type": "code",
   "execution_count": 202,
   "metadata": {
    "collapsed": true
   },
   "outputs": [],
   "source": [
    "def sk_integral(z, params):\n",
    "    oarray = np.empty_like(z)\n",
    "    \n",
    "    for i in range(len(z)):\n",
    "        output = si.quad(sk_integrand, 0, z[i], args=(params))\n",
    "        oarray[i] = output[0]\n",
    "        \n",
    "    return oarray"
   ]
  },
  {
   "cell_type": "code",
   "execution_count": 203,
   "metadata": {
    "collapsed": true
   },
   "outputs": [],
   "source": [
    "def comoving(z, params):\n",
    "    omegak = params['k'].value\n",
    "    this_int = sk_integral(z, params)\n",
    "    k_precision = 1E-9\n",
    "    \n",
    "    if -k_precision < omegak < k_precision:\n",
    "        factor = this_int\n",
    "    elif omegak < -k_precision:\n",
    "        factor = (1/np.sqrt(omegak))*np.sin((np.sqrt(omegak))*this_int)\n",
    "    elif omegak > k_precision:  # omegak > 0 and other edge cases, doesn't really matter\n",
    "        factor = (1/np.sqrt(omegak))*np.sinh((np.sqrt(omegak))*this_int)\n",
    "        \n",
    "    return factor * (speed_of_light/hubble_constant)"
   ]
  },
  {
   "cell_type": "code",
   "execution_count": 204,
   "metadata": {
    "collapsed": true
   },
   "outputs": [],
   "source": [
    "def read_data(fname=\"data/union_21_data.csv\"):\n",
    "    \"\"\"Reads data\n",
    "\n",
    "    Output\n",
    "    ------\n",
    "    z: z array\n",
    "    m: magnitude array\n",
    "    m_err: magnitude error array\"\"\"\n",
    "    \n",
    "    raw = np.loadtxt(fname, delimiter=\"\\t\", usecols=(1,2,3), skiprows=1)\n",
    "    return raw[:,0], raw[:,1] - 19.3, raw[:,2]"
   ]
  },
  {
   "cell_type": "code",
   "execution_count": 205,
   "metadata": {
    "collapsed": true
   },
   "outputs": [],
   "source": [
    "def mag_of_f(f, m0=-20.45):\n",
    "    \"\"\"Implementation of (3) at the top. Returns magnitude as a function of flux\n",
    "    Assumes f given in cgs units\"\"\"\n",
    "    return m0 - 2.5*np.log10(1E-4*f)  # factor to deal with units"
   ]
  },
  {
   "cell_type": "code",
   "execution_count": 206,
   "metadata": {
    "collapsed": true
   },
   "outputs": [],
   "source": [
    "def f_of_z(z, params):\n",
    "    return params['lpeak'].value/(4*np.pi*(comoving(z, params)*(1+z))**2)"
   ]
  },
  {
   "cell_type": "code",
   "execution_count": 207,
   "metadata": {
    "collapsed": true
   },
   "outputs": [],
   "source": [
    "def chisq(obs, exp, err):\n",
    "    \"\"\"Returns the chi squared as in (5) top writing.\"\"\"\n",
    "    return ((obs-exp)**2/(err**2))"
   ]
  },
  {
   "cell_type": "code",
   "execution_count": null,
   "metadata": {
    "collapsed": true
   },
   "outputs": [],
   "source": [
    "def for_fitting(params, z, data, errors):\n",
    "    return chisq(mag_of_f(f_of_z(z, params)), data, errors)"
   ]
  },
  {
   "cell_type": "code",
   "execution_count": null,
   "metadata": {
    "collapsed": false
   },
   "outputs": [],
   "source": [
    "z, mag, mag_err = read_data()\n",
    "out = lmfit.minimize(for_fitting, params, args=(z, mag, mag_err), method='leastsq')\n",
    "\n",
    "print(for_fitting(params, z, mag, mag_err).sum()/(580-3))\n",
    "print(lmfit.fit_report(out))"
   ]
  },
  {
   "cell_type": "code",
   "execution_count": null,
   "metadata": {
    "collapsed": false
   },
   "outputs": [],
   "source": [
    "plt.errorbar(z, mag, yerr=mag_err, linestyle='none', color=josh_colors[0], marker='o', ms=4, alpha=0.7, capthick=0)\n",
    "\n",
    "z_for_plot = np.arange(min(z), max(z), 0.01)\n",
    "\n",
    "m_for_plot = mag_of_f(f_of_z(z_for_plot, params))\n",
    "params_1_0 = deepcopy(params)\n",
    "params_1_0['b'].value = 1\n",
    "params_1_0['de'].value = 0\n",
    "m_for_plot_1_0 =  mag_of_f(f_of_z(z_for_plot, params_1_0))\n",
    "params_0_1 = deepcopy(params)\n",
    "params_0_1['b'].value = 0\n",
    "params_0_1['de'].value = 1\n",
    "m_for_plot_0_1 =  mag_of_f(f_of_z(z_for_plot, params_0_1))\n",
    "\n",
    "plt.plot(z_for_plot, m_for_plot, color=josh_colors[1])\n",
    "plt.plot(z_for_plot, m_for_plot_1_0, linestyle='--', color=josh_colors[2])\n",
    "plt.plot(z_for_plot, m_for_plot_0_1, linestyle='-.', color=josh_colors[3])\n",
    "plt.xlabel(\"$z$\")\n",
    "plt.ylabel(\"$m$\")\n",
    "plt.show()"
   ]
  },
  {
   "cell_type": "code",
   "execution_count": null,
   "metadata": {
    "collapsed": true
   },
   "outputs": [],
   "source": []
  },
  {
   "cell_type": "code",
   "execution_count": null,
   "metadata": {
    "collapsed": true
   },
   "outputs": [],
   "source": []
  }
 ],
 "metadata": {
  "kernelspec": {
   "display_name": "Python 3",
   "language": "python",
   "name": "python3"
  },
  "language_info": {
   "codemirror_mode": {
    "name": "ipython",
    "version": 3
   },
   "file_extension": ".py",
   "mimetype": "text/x-python",
   "name": "python",
   "nbconvert_exporter": "python",
   "pygments_lexer": "ipython3",
   "version": "3.4.3"
  }
 },
 "nbformat": 4,
 "nbformat_minor": 0
}
