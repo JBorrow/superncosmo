{
 "cells": [
  {
   "cell_type": "markdown",
   "metadata": {},
   "source": [
    "Union 2.1 Dataset Analysis\n",
    "==========================\n",
    "\n",
    "This data uses the distance modulus, $\\mu$, to describe the distance rather than the flux or apparent magnitude. We have\n",
    "$$\n",
    "    \\mu = m - M~,\n",
    "$$\n",
    "where $M$ is given by the dataset as being $M(h=0.7) = -19.3081547178$ and is defined below.\n",
    "\n",
    "So the dataset gives $\\mu(z)$ so we need an extra step.\n",
    "\n",
    "We will be again fitting the six-parameter $\\Lambda$CDM model."
   ]
  },
  {
   "cell_type": "code",
   "execution_count": 3,
   "metadata": {
    "collapsed": false
   },
   "outputs": [],
   "source": [
    "%matplotlib inline\n",
    "%config InlineBackend.figure_formats = {'svg', 'retina'}"
   ]
  },
  {
   "cell_type": "code",
   "execution_count": 7,
   "metadata": {
    "collapsed": false
   },
   "outputs": [],
   "source": [
    "import numpy as np\n",
    "import scipy.integrate as si\n",
    "import matplotlib.pyplot as plt\n",
    "plt.style.use('ggplot')\n",
    "import lmfit"
   ]
  },
  {
   "cell_type": "code",
   "execution_count": 8,
   "metadata": {
    "collapsed": true
   },
   "outputs": [],
   "source": [
    "hubble_constant = 70 * 3.24078e-20\n",
    "speed_of_light = 3e8"
   ]
  },
  {
   "cell_type": "code",
   "execution_count": 9,
   "metadata": {
    "collapsed": true
   },
   "outputs": [],
   "source": [
    "def a_of_z(z):\n",
    "    \"\"\"Simple function that gives a(z) = 1/(1+z)\"\"\"\n",
    "    return 1./(1+z)"
   ]
  },
  {
   "cell_type": "code",
   "execution_count": 10,
   "metadata": {
    "collapsed": false
   },
   "outputs": [],
   "source": [
    "def h_of_a(a, omega_c=0, omega_b=0.3, omega_rad=0, omega_k=0, omega_de=0.7, w=-1, H0=hubble_constant):\n",
    "    \"\"\"Implementation of (1) at the top. Returns H(a)\"\"\"\n",
    "    return H0 * np.sqrt((omega_c+omega_b)*(a**(-3)) + omega_rad*(a**(-4)) + omega_k*(a**(-2)) + omega_de*(a**(-3*(1+w))))"
   ]
  },
  {
   "cell_type": "code",
   "execution_count": 11,
   "metadata": {
    "collapsed": true
   },
   "outputs": [],
   "source": [
    "def h_of_z(z, omega_c=0, omega_b=0.3, omega_rad=0, omega_k=0, omega_de=0.7, w=-1, H0=hubble_constant):\n",
    "    \"\"\"Implementation of (1) at the top. Returns H(a)\"\"\"\n",
    "    a = a_of_z(z)\n",
    "    return h_of_a(a, omega_c, omega_b, omega_rad, omega_k, omega_de, w, H0)"
   ]
  },
  {
   "cell_type": "code",
   "execution_count": 12,
   "metadata": {
    "collapsed": true
   },
   "outputs": [],
   "source": [
    "def h_of_z_inverse(z, omega_c=0, omega_b=0.3, omega_rad=0, omega_k=0, omega_de=0.7, w=-1, H0=hubble_constant):\n",
    "    \"\"\"1/h_of_z\"\"\"\n",
    "    return 1/h_of_z(z, omega_c, omega_b, omega_rad, omega_k, omega_de, w, H0)"
   ]
  },
  {
   "cell_type": "code",
   "execution_count": 13,
   "metadata": {
    "collapsed": true
   },
   "outputs": [],
   "source": [
    "def f_of_z(z, lpeak, r_eta):\n",
    "    \"\"\"Implementation of (2) at the top. Returns flux as a function of redshift\"\"\"\n",
    "    return lpeak/(4*np.pi*((r_eta)**2)*((1+z)**2))"
   ]
  },
  {
   "cell_type": "markdown",
   "metadata": {},
   "source": [
    "$$\n",
    "    m = m_0 - 2.5\\log_{10}(f)\n",
    "$$\n",
    "$$\n",
    "    M - m = mu"
   ]
  },
  {
   "cell_type": "code",
   "execution_count": null,
   "metadata": {
    "collapsed": true
   },
   "outputs": [],
   "source": [
    "def mu_of_f(f, m0=-19.3):\n",
    "    \"\"\"Gives distance modulus as a function of f\"\"\"\n",
    "    return "
   ]
  }
 ],
 "metadata": {
  "kernelspec": {
   "display_name": "Python 3",
   "language": "python",
   "name": "python3"
  },
  "language_info": {
   "codemirror_mode": {
    "name": "ipython",
    "version": 3
   },
   "file_extension": ".py",
   "mimetype": "text/x-python",
   "name": "python",
   "nbconvert_exporter": "python",
   "pygments_lexer": "ipython3",
   "version": "3.4.3"
  }
 },
 "nbformat": 4,
 "nbformat_minor": 0
}
