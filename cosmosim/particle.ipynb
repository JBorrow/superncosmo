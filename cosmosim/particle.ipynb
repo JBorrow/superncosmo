{
 "cells": [
  {
   "cell_type": "markdown",
   "metadata": {},
   "source": [
    "# Particle Object\n",
    "\n",
    "This object will contain all of the data and methods to work on the gravitational attraction.\n",
    "\n",
    "Methods\n",
    "-------\n",
    "\n",
    "### \\_\\_init\\_\\_\n",
    "Sets up the particle masas and individual properties.\n",
    "* Mass\n",
    "* Velocity\n",
    "* Position\n",
    "\n",
    "\n",
    "### move\n",
    "Calculates the new position of the particle after some given timestep $t$.\n",
    "\n",
    "To do this, we can't just linearly change the velocity over the space,\n",
    "but we can assume that the background gravitatational field stays reasonably\n",
    "constant over the given time and distance interval.\n",
    "\n",
    "Equation of motion:\n",
    "\n",
    "$$\n",
    "    \\vec{g}(\\vec{r})m = m\\vec{\\ddot{r}}\n",
    "$$\n",
    "\n",
    "\n"
   ]
  },
  {
   "cell_type": "code",
   "execution_count": null,
   "metadata": {
    "collapsed": true
   },
   "outputs": [],
   "source": [
    "class Particle(object):\n",
    "    def __init__(self, mass, vel=[0,0,0], pos=[0,0,0]):\n",
    "        \"\"\"Particle Object for cosmosim\n",
    "        \n",
    "        Input\n",
    "        -----\n",
    "        \n",
    "        mass : mass of the particle, float\n",
    "        vel : velocity of the particle, 3d array-like\n",
    "        pos : position of the particle, 3d array-like\n",
    "        \n",
    "        Output\n",
    "        ------\n",
    "        \n",
    "        None\n",
    "        \"\"\"\n",
    "        self.mass = mass\n",
    "        self.vel = np.array(vel)\n",
    "        self.pos = np.array(pos)\n",
    "        \n",
    "        return 0\n",
    "    \n",
    "    \n",
    "    def move(self):\n",
    "        \"\"\"Moves the particle\n",
    "        \n",
    "        Input\n",
    "        -----\n",
    "        \n",
    "        self.mass\n",
    "        self.vel\n",
    "        self.gfield\n",
    "        self.pos\n",
    "        \n",
    "        Output\n",
    "        ------\n",
    "        \n",
    "        self.vel is set to the new velocity\n",
    "        self.pos is set to the new position\"\"\""
   ]
  }
 ],
 "metadata": {
  "kernelspec": {
   "display_name": "Python 3",
   "language": "python",
   "name": "python3"
  },
  "language_info": {
   "codemirror_mode": {
    "name": "ipython",
    "version": 3
   },
   "file_extension": ".py",
   "mimetype": "text/x-python",
   "name": "python",
   "nbconvert_exporter": "python",
   "pygments_lexer": "ipython3",
   "version": "3.5.0"
  }
 },
 "nbformat": 4,
 "nbformat_minor": 0
}
