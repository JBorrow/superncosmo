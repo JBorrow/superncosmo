{
 "cells": [
  {
   "cell_type": "code",
   "execution_count": 63,
   "metadata": {
    "collapsed": true
   },
   "outputs": [],
   "source": [
    "%matplotlib inline"
   ]
  },
  {
   "cell_type": "markdown",
   "metadata": {},
   "source": [
    "Supernova Cosmology - Luminosity\n",
    "------------------\n",
    "\n",
    "Here we need to use the approximation:\n",
    "$$\n",
    "    R_0 \\eta = \\frac{cz}{H_0}~,\n",
    "$$\n",
    "and the equation\n",
    "$$\n",
    "    f = \\frac{L_{peak}}{4\\pi\\left[R_0\\eta\\right]^2(1+z)^2}~,\n",
    "$$\n",
    "which can be a pain because our stuff is given in magnitudes, which we can convert using\n",
    "$$\n",
    "    m = m_0 - 2.5\\log_{10}(f)~.\n",
    "$$\n",
    "We will test this with chi squared:\n",
    "$$\n",
    "    \\chi^2 = \\sum_n \\frac{(obs_i - exp_i)^2}{\\sigma^2}~.\n",
    "$$"
   ]
  },
  {
   "cell_type": "code",
   "execution_count": 64,
   "metadata": {
    "collapsed": true
   },
   "outputs": [],
   "source": [
    "import numpy as np\n",
    "import matplotlib.pyplot as plt\n",
    "import scipy.integrate as si\n",
    "from scipy.optimize import curve_fit"
   ]
  },
  {
   "cell_type": "code",
   "execution_count": 65,
   "metadata": {
    "collapsed": true
   },
   "outputs": [],
   "source": [
    "def magfromflux(f, m0=-13):\n",
    "    \"\"\"Gives magnitude from the flux. M0 at the moment is a bit of a mystery to me...\n",
    "    We'll see how this goes in the future.\n",
    "    \n",
    "    Input\n",
    "    -----\n",
    "    f: flux in some units\n",
    "    m0: optional, magnitude for calibration\n",
    "    \n",
    "    Output\n",
    "    ------\n",
    "    m: Magnitude\"\"\"\n",
    "    \n",
    "    return m0 - 2.5*np.log10(f)"
   ]
  },
  {
   "cell_type": "code",
   "execution_count": 66,
   "metadata": {
    "collapsed": true
   },
   "outputs": [],
   "source": [
    "def reta(z, c=3e08, H0=75*(3.24078e-20)):\n",
    "    \"\"\"Gives the R_0 eta value from the equation above. Units still to be sorted.\n",
    "    \n",
    "    Input\n",
    "    -----\n",
    "    z: redshift\n",
    "    c: optional, speed of light\n",
    "    H0: optional, hubble constant\n",
    "    \n",
    "    Output\n",
    "    ------\n",
    "    reta: R_0 times eta. Useable for the k=0 case.\"\"\"\n",
    "    \n",
    "    return c*z/H0"
   ]
  },
  {
   "cell_type": "code",
   "execution_count": 67,
   "metadata": {
    "collapsed": false
   },
   "outputs": [],
   "source": [
    "def fluxfromzlpeak(z, lpeak, reta=reta):\n",
    "    \"\"\"Gives the flux as above.\n",
    "    \n",
    "    Input\n",
    "    -----\n",
    "    z: redshift\n",
    "    lpeak: peak luminosity, to be fitted\n",
    "    reta: callable to give r0eta\n",
    "    \n",
    "    Output\n",
    "    ------\n",
    "    f: flux\"\"\"\n",
    "    \n",
    "    return lpeak/(4*np.pi*(reta(z)**2)*((1+z)**2))"
   ]
  },
  {
   "cell_type": "code",
   "execution_count": 68,
   "metadata": {
    "collapsed": true
   },
   "outputs": [],
   "source": [
    "def magfromzlpeak(z, lpeak, reta=reta):\n",
    "    \"\"\"Returns magnitude instead of flux\n",
    "    \n",
    "    Input\n",
    "    -----\n",
    "    z: redshift\n",
    "    lpeak: peak luminosity, generally for fitting\n",
    "    reta: callable to give r0eta\n",
    "    \n",
    "    Output\n",
    "    ------\n",
    "    m: magnitude\"\"\"\n",
    "    \n",
    "    return magfromflux(fluxfromzlpeak(z,lpeak,reta))"
   ]
  },
  {
   "cell_type": "markdown",
   "metadata": {},
   "source": [
    "Now we must fit this equation (fluxfromzlpeak) with the data given for low $z$. We can then get $L_{peak}$. Hopefully."
   ]
  },
  {
   "cell_type": "code",
   "execution_count": 69,
   "metadata": {
    "collapsed": true
   },
   "outputs": [],
   "source": [
    "def readdata(fname=\"/Users/josh/Documents/superncosmo/data/low_z_data.csv\"):\n",
    "    \"\"\"Reads data\n",
    "    \n",
    "    Input\n",
    "    -----\n",
    "    fname: filename for low z data\n",
    "    \n",
    "    Output\n",
    "    ------\n",
    "    z: z array\n",
    "    m: magnitude array\n",
    "    m_err: magnitude error array\"\"\"\n",
    "    \n",
    "    raw = np.loadtxt(fname, delimiter=\" \", usecols=(1,2,3))\n",
    "    return raw[:,0], raw[:,1], raw[:,2]"
   ]
  },
  {
   "cell_type": "code",
   "execution_count": 70,
   "metadata": {
    "collapsed": true
   },
   "outputs": [],
   "source": [
    "def fitdata(z, mag, m_err, fitfunc, p0=(4e30)):\n",
    "    \"\"\"Fits the data using curve_fit and prints it nicely. Basically a wrapper for curve_fit\"\"\"\n",
    "\n",
    "    popt, pcov = curve_fit(fitfunc, z, mag, p0, m_err)\n",
    "\n",
    "    return popt, pcov"
   ]
  },
  {
   "cell_type": "code",
   "execution_count": 71,
   "metadata": {
    "collapsed": true
   },
   "outputs": [],
   "source": [
    "def chisq(obs, exp, err):\n",
    "    \"\"\"Returns the chi squared as in top writing.\n",
    "    \n",
    "    Input\n",
    "    -----\n",
    "    obs: observer array\n",
    "    exp: expected array\n",
    "    err: error array\n",
    "    \n",
    "    Returns\n",
    "    -------\n",
    "    csq: Chi Squared\"\"\"\n",
    "    \n",
    "    csq = 0\n",
    "    \n",
    "    for i in range(len(obs)):\n",
    "        csq = csq + (((obs[i]-exp[i])**2)/(err[i]**2))\n",
    "        \n",
    "    return csq"
   ]
  },
  {
   "cell_type": "markdown",
   "metadata": {},
   "source": [
    "Script below, actually runs and fits data\n",
    "-----------"
   ]
  },
  {
   "cell_type": "code",
   "execution_count": 78,
   "metadata": {
    "collapsed": false
   },
   "outputs": [
    {
     "name": "stdout",
     "output_type": "stream",
     "text": [
      "Chi Squared: 21.455533\n",
      "Peak Luminosity in magnitude: -109.234800\n",
      "Peak Luminosity [  3.11831508e+38] pm [[  2.24657040e+74]]\n",
      "Note the above numbers are pretty nonsensical, these are just stuff on the way to omega_lambda\n"
     ]
    },
    {
     "data": {
      "image/png": "[encoded data removed]",
      "text/plain": [
       "<matplotlib.figure.Figure at 0x114ebbfd0>"
      ]
     },
     "metadata": {},
     "output_type": "display_data"
    }
   ],
   "source": [
    "z, mag, m_err = readdata()  # read in data so it can be used\n",
    "\n",
    "pl, ple = fitdata(z, mag, m_err, magfromzlpeak)\n",
    "\n",
    "plt.errorbar(z, mag, yerr=m_err, fmt='bo')\n",
    "z_for_fitting = np.arange(min(z), max(z), 0.001)\n",
    "plt.plot(z_for_fitting, magfromzlpeak(z_for_fitting, pl), color='r')\n",
    "\n",
    "print \"Chi Squared: %f\" % chisq(mag, magfromzlpeak(z, pl), m_err)\n",
    "print \"Peak Luminosity in magnitude: %f\" % magfromflux(pl)\n",
    "print \"Peak Luminosity %s pm %s\" % (pl, ple)\n",
    "print \"Note the above numbers are pretty nonsensical, these are just stuff on the way to omega_lambda\"\n",
    "\n",
    "plt.xlabel(\"$z$\")\n",
    "plt.ylabel(\"Magnitude $m$\")\n",
    "plt.show()"
   ]
  },
  {
   "cell_type": "markdown",
   "metadata": {
    "collapsed": true
   },
   "source": [
    "Plotting High-z Data\n",
    "-------------------\n",
    "\n",
    "Now we need to take a look at the high redshift data. This is going to be interesting. I'll start by plotting it."
   ]
  },
  {
   "cell_type": "code",
   "execution_count": 73,
   "metadata": {
    "collapsed": false
   },
   "outputs": [
    {
     "data": {
      "image/png": "[encoded data removed]",
      "text/plain": [
       "<matplotlib.figure.Figure at 0x114be1890>"
      ]
     },
     "metadata": {},
     "output_type": "display_data"
    }
   ],
   "source": [
    "z_high, m_high, m_err_high = readdata(\"/Users/josh/Documents/superncosmo/data/high_z_data.csv\")\n",
    "\n",
    "plt.errorbar(z_high, m_high, yerr=m_err_high, fmt='bo')\n",
    "plt.xlabel(\"$z$\")\n",
    "plt.ylabel(\"Magnitude $m$\")\n",
    "plt.show()"
   ]
  },
  {
   "cell_type": "markdown",
   "metadata": {
    "collapsed": true
   },
   "source": [
    "Now we need to think about implementing the Friedmann equation. We go from\n",
    "$$\n",
    "    \\frac{H^2}{H_0^2} = \\Omega_M a^{-3} + \\Omega_\\Lambda + \\Omega_k a^{-2}~,\n",
    "$$\n",
    "to\n",
    "$$\n",
    "    H^2 = H_0^2 \\left[(1-\\Omega_\\Lambda)(1+z)^3 + \\Omega_\\Lambda\\right]~,\n",
    "$$\n",
    "in the flat case. We also need a more complex expression for\n",
    "$$\n",
    "    R_0\\eta = c\\int^z_0 \\frac{\\mathrm{d}z'}{H(z')}~.\n",
    "$$\n",
    "In the end this feeds back into the original flux equation given above."
   ]
  },
  {
   "cell_type": "code",
   "execution_count": 74,
   "metadata": {
    "collapsed": true
   },
   "outputs": [],
   "source": [
    "def hinflatu(z, omega_lambda, H0=75*(3.24078e-20)):\n",
    "    \"\"\"Implements the equation given before (or rather the inverse square root) so it can be implemented in\n",
    "    the integral below.\n",
    "    \n",
    "    Input\n",
    "    -----\n",
    "    z: redshift\n",
    "    omega_lambda: to be fitted for\n",
    "    \n",
    "    Output\n",
    "    ------\n",
    "    H(z): hubble parameter at redshift z in a flat universe\"\"\"\n",
    "    \n",
    "    return 1/(H0*np.sqrt((1-omega_lambda)*((1+z)**3) + omega_lambda))"
   ]
  },
  {
   "cell_type": "code",
   "execution_count": 75,
   "metadata": {
    "collapsed": true
   },
   "outputs": [],
   "source": [
    "def rzeroetaint(z, omega_lambda, c=3e08):\n",
    "    \"\"\"Implements the above integral and solves it numerically\n",
    "    \n",
    "    Input\n",
    "    -----\n",
    "    z: redshift\n",
    "    omega_lambda: to be passed to hinflatu\n",
    "    \n",
    "    Output\n",
    "    ------\n",
    "    R0eta: integral given above.\"\"\"\n",
    "    # issue: quad doens't like arrays\n",
    "    oarray = np.empty_like(z)\n",
    "    \n",
    "    for i in range(len(z)):\n",
    "        output = si.quad(hinflatu, 0, z[i], args=(omega_lambda))\n",
    "        oarray[i] = c*output[0]\n",
    "    \n",
    "    return oarray"
   ]
  },
  {
   "cell_type": "code",
   "execution_count": 76,
   "metadata": {
    "collapsed": true
   },
   "outputs": [],
   "source": [
    "def functiontofitforomegalambda(z, omega_lambda):\n",
    "    \"\"\"Function to fit to recover the omega_lambda constant by using m(z) for high z galaxies.\n",
    "    \n",
    "    Input\n",
    "    -----\n",
    "    z: redshift\n",
    "    omega_lambda: to be fitted for \n",
    "    \n",
    "    Output\n",
    "    ------\n",
    "    m: magnitude to fit with\"\"\"\n",
    "    \n",
    "    lpeak = pl\n",
    "    flux = lpeak/(4*np.pi*(rzeroetaint(z, omega_lambda)**2)*((1+z)**2))\n",
    "    \n",
    "    return magfromflux(flux)"
   ]
  },
  {
   "cell_type": "code",
   "execution_count": 77,
   "metadata": {
    "collapsed": false
   },
   "outputs": [
    {
     "name": "stdout",
     "output_type": "stream",
     "text": [
      "Omega_Lambda = 0.7127 pm 0.004648\n"
     ]
    }
   ],
   "source": [
    "popt, pcov = fitdata(np.array(z_high), m_high, m_err_high, functiontofitforomegalambda, p0=(0.5))\n",
    "\n",
    "print \"Omega_Lambda = %1.4f pm %1.6f\" % (popt, pcov)"
   ]
  }
 ],
 "metadata": {
  "kernelspec": {
   "display_name": "Python 2",
   "language": "python",
   "name": "python2"
  },
  "language_info": {
   "codemirror_mode": {
    "name": "ipython",
    "version": 2
   },
   "file_extension": ".py",
   "mimetype": "text/x-python",
   "name": "python",
   "nbconvert_exporter": "python",
   "pygments_lexer": "ipython2",
   "version": "2.7.10"
  }
 },
 "nbformat": 4,
 "nbformat_minor": 0
}
